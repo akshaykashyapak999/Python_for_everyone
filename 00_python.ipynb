{
 "cells": [
  {
   "cell_type": "markdown",
   "id": "002e24e3-067b-4375-80f0-b6de284bc5f0",
   "metadata": {},
   "source": [
    "<div class=\"alert alert-block alert-info\" style=\"margin-top: 20px\"><h1>Python</h1>\n",
    "<code>By AKSHAY KASHYAP</code></div>"
   ]
  },
  {
   "cell_type": "markdown",
   "id": "5f4a8ccb-5a94-4f42-a76e-1c620eb55398",
   "metadata": {},
   "source": [
    "<div class=\"alert alert-block alert-danger\" style=\"margin-top: 20px\">\n",
    "    <h3>Python</h3><hr>\n",
    "    <p>\n",
    "        <code>Python</code> is a <code>high-level</code>, <code>interpreted</code> programming language known for its simplicity and readability.<br> It supports multiple programming paradigms and comes with a comprehensive standard library,<br> making it versatile for a wide range of applications from web development to scientific computing.</p>\n",
    "</div>"
   ]
  },
  {
   "cell_type": "markdown",
   "id": "f1b54029-3dc4-430a-af82-9767e2d22b53",
   "metadata": {},
   "source": [
    "<hr><div>\n",
    "<h3>Let's <code>print</code> something</h3><hr>\n",
    "    <code>print(\"\")</code> what ever we write inside \"\" will be print<br>\n",
    "    Here I wanna to print <code>Hello Universe!!!!</code><hr>\n",
    "    The way we write <code>print(\"\")</code> is called <code>syntax</code>, different programming language<br>\n",
    "    have different <code>syntax</code>.\n",
    "</div><hr>"
   ]
  },
  {
   "cell_type": "code",
   "execution_count": 1,
   "id": "84831fc9-ca3b-476d-823d-89577a2f3e08",
   "metadata": {},
   "outputs": [
    {
     "name": "stdout",
     "output_type": "stream",
     "text": [
      "Hello Universe!!!\n"
     ]
    }
   ],
   "source": [
    "print(\"Hello Universe!!!\") "
   ]
  },
  {
   "cell_type": "code",
   "execution_count": 2,
   "id": "5d9a3abb-d748-471f-9090-8a3a36e2dd1d",
   "metadata": {},
   "outputs": [
    {
     "name": "stdout",
     "output_type": "stream",
     "text": [
      "Hello!!! I'm Akshay\n"
     ]
    }
   ],
   "source": [
    "print(\"Hello!!! I'm Akshay\")"
   ]
  },
  {
   "cell_type": "markdown",
   "id": "a95fd40f-c8fc-4884-b626-ac06abba477d",
   "metadata": {},
   "source": [
    "<hr>I wanted to print I'm Akshay in new line<hr>\n",
    "Hello!!!<br>\n",
    "I'm Akshay<hr>"
   ]
  },
  {
   "cell_type": "code",
   "execution_count": 3,
   "id": "6fc2142c-86c1-47fe-b344-acff5ffa064e",
   "metadata": {},
   "outputs": [
    {
     "name": "stdout",
     "output_type": "stream",
     "text": [
      "Hello!!! \n",
      "I'm Akshay\n"
     ]
    }
   ],
   "source": [
    "print(\"Hello!!! \\nI'm Akshay\")"
   ]
  },
  {
   "cell_type": "markdown",
   "id": "94aed0c7-bc52-4a98-aa29-44380eebc214",
   "metadata": {},
   "source": [
    "<hr>hurryyyyyy!!!!!!<hr>"
   ]
  },
  {
   "cell_type": "markdown",
   "id": "02914615-e524-42e0-96f9-481b31713250",
   "metadata": {},
   "source": [
    "<code>\\n</code> : enter (new line)<br>\n",
    "<code>\\t</code> : tab<br>\n",
    "<code>\\\\</code> : \\ <br>\n",
    "<code>\\b</code> : backspace<br>"
   ]
  },
  {
   "cell_type": "code",
   "execution_count": 4,
   "id": "9d4d52e1-2e35-4ef2-847a-aaade560b29c",
   "metadata": {},
   "outputs": [
    {
     "name": "stdout",
     "output_type": "stream",
     "text": [
      "Hi \\name\n",
      "______________\n",
      "Hi \n",
      "ame\n"
     ]
    }
   ],
   "source": [
    "print(r\"Hi \\name\") # r to print in raw (as it is)\n",
    "\n",
    "print(\"______________\")\n",
    "\n",
    "print(\"Hi \\name\") # without r"
   ]
  },
  {
   "cell_type": "markdown",
   "id": "4036aad0-c1aa-4e00-b6ea-ee091742c1f4",
   "metadata": {},
   "source": [
    "<hr><div>\n",
    "    Let's try to see some more print given below:<br>\n",
    "    <li><code>It's Python Notebook</code></li>\n",
    "    <li><code>\"Python\" by Akshay</code></li>\n",
    "    <li><code>I'm \"WOW\"</code></li>\n",
    "    <code>Kabir's quote is:<br>\"If you want the truth,<br>I'll tell you the truth:<br>Listen to the secret sound,<br>the real sound, which is inside you\" </code>\n",
    "</div><hr>"
   ]
  },
  {
   "cell_type": "code",
   "execution_count": 5,
   "id": "cd9a5a14-da29-4653-9585-dbe52d963e34",
   "metadata": {},
   "outputs": [
    {
     "name": "stdout",
     "output_type": "stream",
     "text": [
      "It's Python Notebook\n"
     ]
    }
   ],
   "source": [
    "print(\"It's Python Notebook\") # here we print single quote,\n",
    "# that's why we wrote inside \"\" double quote"
   ]
  },
  {
   "cell_type": "code",
   "execution_count": 6,
   "id": "13f675e1-3a15-42da-aea5-fe2136d31e15",
   "metadata": {},
   "outputs": [
    {
     "name": "stdout",
     "output_type": "stream",
     "text": [
      "\"Python\" by Akshay\n"
     ]
    }
   ],
   "source": [
    "print('\"Python\" by Akshay') # here we print double quote, \n",
    "# that's why we wrote inside '' single quote"
   ]
  },
  {
   "cell_type": "code",
   "execution_count": 7,
   "id": "d78421b5-239b-4572-9597-3df464969d95",
   "metadata": {},
   "outputs": [
    {
     "name": "stdout",
     "output_type": "stream",
     "text": [
      "    I'm \"WOW\"    \n"
     ]
    }
   ],
   "source": [
    "# here we want both single and double qoute \n",
    "print('    I\\'m \"WOW\"    ') # \\ to skip (') from getting interpreted \n",
    "\n",
    "# space are just to show single quote although 'space' also get printed"
   ]
  },
  {
   "cell_type": "code",
   "execution_count": 8,
   "id": "52b34855-36c6-4c2c-8dee-46e31e9d12ef",
   "metadata": {},
   "outputs": [
    {
     "name": "stdout",
     "output_type": "stream",
     "text": [
      "Kabir's quote is:\n",
      "\"If you want the truth,\n",
      "I'll tell you the truth:\n",
      "Listen to the secret sound,\n",
      "the real sound, which is inside you\"\n"
     ]
    }
   ],
   "source": [
    "print('Kabir\\'s quote is:\\n\"If you want the truth,\\nI\\'ll tell you the truth:\\nListen to the secret sound,\\nthe real sound, which is inside you\"')\n"
   ]
  },
  {
   "cell_type": "markdown",
   "id": "256bdc9a-afc2-4ecc-8a0e-fdd5e10242c5",
   "metadata": {},
   "source": [
    "<hr><h3>Hey, it's time for some <code>Numerical</code> operation</h3><hr>"
   ]
  },
  {
   "cell_type": "code",
   "execution_count": 9,
   "id": "c4e23243-2fa6-4e6f-8351-2a045296bfa0",
   "metadata": {},
   "outputs": [
    {
     "data": {
      "text/plain": [
       "5"
      ]
     },
     "execution_count": 9,
     "metadata": {},
     "output_type": "execute_result"
    }
   ],
   "source": [
    "2 + 3 # addition"
   ]
  },
  {
   "cell_type": "code",
   "execution_count": 10,
   "id": "cf13f70e-beca-4a3e-a850-883b59ede32b",
   "metadata": {},
   "outputs": [
    {
     "data": {
      "text/plain": [
       "2"
      ]
     },
     "execution_count": 10,
     "metadata": {},
     "output_type": "execute_result"
    }
   ],
   "source": [
    "9 - 7 # substraction"
   ]
  },
  {
   "cell_type": "code",
   "execution_count": 11,
   "id": "85629f09-83a9-4237-9798-c472101b453f",
   "metadata": {},
   "outputs": [
    {
     "data": {
      "text/plain": [
       "4"
      ]
     },
     "execution_count": 11,
     "metadata": {},
     "output_type": "execute_result"
    }
   ],
   "source": [
    "2 * 2 # multiplication"
   ]
  },
  {
   "cell_type": "code",
   "execution_count": 12,
   "id": "685847e8-1b99-4edf-a1a1-6bca6b351130",
   "metadata": {},
   "outputs": [
    {
     "data": {
      "text/plain": [
       "8"
      ]
     },
     "execution_count": 12,
     "metadata": {},
     "output_type": "execute_result"
    }
   ],
   "source": [
    "2 ** 3 # power"
   ]
  },
  {
   "cell_type": "markdown",
   "id": "807b23a0-59c4-4052-a791-e110b6ac5cf7",
   "metadata": {},
   "source": [
    "<hr><h4>Division</h4><hr>"
   ]
  },
  {
   "cell_type": "code",
   "execution_count": 13,
   "id": "39610622-a3ce-47d4-9183-d59c14843a72",
   "metadata": {},
   "outputs": [
    {
     "data": {
      "text/plain": [
       "2.5"
      ]
     },
     "execution_count": 13,
     "metadata": {},
     "output_type": "execute_result"
    }
   ],
   "source": [
    "5 / 2 # division"
   ]
  },
  {
   "cell_type": "code",
   "execution_count": 14,
   "id": "53a615df-e14e-412b-bcf5-f50bfcb2a000",
   "metadata": {},
   "outputs": [
    {
     "data": {
      "text/plain": [
       "2"
      ]
     },
     "execution_count": 14,
     "metadata": {},
     "output_type": "execute_result"
    }
   ],
   "source": [
    "5 // 2 # integer division (Quotient)"
   ]
  },
  {
   "cell_type": "code",
   "execution_count": 15,
   "id": "750742d2-def7-400b-bdbc-c6e412bfa155",
   "metadata": {},
   "outputs": [
    {
     "data": {
      "text/plain": [
       "1"
      ]
     },
     "execution_count": 15,
     "metadata": {},
     "output_type": "execute_result"
    }
   ],
   "source": [
    "5 % 2 # modulus division (remainder)"
   ]
  },
  {
   "cell_type": "markdown",
   "id": "64adfd24-a2d6-4f45-93f4-26cb42b6c763",
   "metadata": {},
   "source": [
    "<hr><h3>Let's see <code>Variable</code>, <code>assign</code> and do print & operation</h3><hr>"
   ]
  },
  {
   "cell_type": "markdown",
   "id": "392dcb7a-e223-4cfa-8388-482869f91543",
   "metadata": {},
   "source": [
    "<div class=\"alert alert-block alert-danger\" style=\"margin-top: 20px\">\n",
    "<code>Variable</code> is basically a <code>label</code> of container, to <code>identify</code> it\n",
    "<div>"
   ]
  },
  {
   "cell_type": "code",
   "execution_count": 16,
   "id": "78815a6b-f96c-4872-a4db-61e05d155882",
   "metadata": {},
   "outputs": [],
   "source": [
    "a = 5  # assign int\n",
    "b = 2.7 # assign float\n",
    "c = \"Python\" # assign string (\"\" or '' must)\n",
    "d = \"is great\"\n",
    "\n",
    "f = True # boolean (True | False or O | !)"
   ]
  },
  {
   "cell_type": "code",
   "execution_count": 17,
   "id": "b870e50d-6f38-4f43-9aaa-d818d063be35",
   "metadata": {},
   "outputs": [
    {
     "name": "stdout",
     "output_type": "stream",
     "text": [
      "5\n",
      "2.7\n"
     ]
    }
   ],
   "source": [
    "print(a) # no need to write \"\" or '' beacuse \"a\" is variable\n",
    "print(b)"
   ]
  },
  {
   "cell_type": "code",
   "execution_count": 18,
   "id": "17892da8-0067-458e-b020-33cecfa9d6dd",
   "metadata": {},
   "outputs": [
    {
     "name": "stdout",
     "output_type": "stream",
     "text": [
      "Python\n"
     ]
    }
   ],
   "source": [
    "print(c)"
   ]
  },
  {
   "cell_type": "code",
   "execution_count": 19,
   "id": "c75e8259-a9aa-47e7-9b40-eef36e883c39",
   "metadata": {},
   "outputs": [
    {
     "name": "stdout",
     "output_type": "stream",
     "text": [
      "True\n"
     ]
    }
   ],
   "source": [
    "print(f)"
   ]
  },
  {
   "cell_type": "code",
   "execution_count": 20,
   "id": "2500778e-41d4-4ce3-adea-d11559aee1f6",
   "metadata": {},
   "outputs": [
    {
     "data": {
      "text/plain": [
       "7.7"
      ]
     },
     "execution_count": 20,
     "metadata": {},
     "output_type": "execute_result"
    }
   ],
   "source": [
    "a + b # add using variables"
   ]
  },
  {
   "cell_type": "code",
   "execution_count": 21,
   "id": "200d4b15-8e11-4b66-9390-dc737068ed55",
   "metadata": {},
   "outputs": [
    {
     "data": {
      "text/plain": [
       "2.3"
      ]
     },
     "execution_count": 21,
     "metadata": {},
     "output_type": "execute_result"
    }
   ],
   "source": [
    "a - b # substract using variables"
   ]
  },
  {
   "cell_type": "code",
   "execution_count": 22,
   "id": "9e4e2c3c-fb91-44ac-9703-adf33dbc79b3",
   "metadata": {},
   "outputs": [
    {
     "data": {
      "text/plain": [
       "77.12923284000122"
      ]
     },
     "execution_count": 22,
     "metadata": {},
     "output_type": "execute_result"
    }
   ],
   "source": [
    "a ** b # power using variables"
   ]
  },
  {
   "cell_type": "code",
   "execution_count": 23,
   "id": "fa93244b-2e62-4472-9cc6-a401bddea652",
   "metadata": {},
   "outputs": [
    {
     "name": "stdout",
     "output_type": "stream",
     "text": [
      "Python is great\n",
      "Pythonis great\n"
     ]
    }
   ],
   "source": [
    "print(c+\" \"+d) # \" \" , is to provide space \n",
    "print(c+d)"
   ]
  },
  {
   "cell_type": "markdown",
   "id": "13a2270b-210d-48dc-81ff-dc93405f0f14",
   "metadata": {},
   "source": [
    "<hr><div class=\"alert alert-block alert-info\" style=\"margin-top: 20px\">\n",
    "<h3>Data Type</h3></div>\n",
    "<div>\n",
    "    <li>int : integer</li>\n",
    "    <li>float : number with decimal value</li>\n",
    "    <li>bool : boolean ( True, False | o,1 )</li>\n",
    "    <li>str : string ( any alphabet, character, quoted_number( \"9\" ) )</li>\n",
    "    <code>NOTE:</code><br>\n",
    "    There are more data type in python , visit python official site\n",
    "</div>\n",
    "<hr>"
   ]
  },
  {
   "cell_type": "markdown",
   "id": "10a401e7-2bcc-49ca-b6c1-481cea10b147",
   "metadata": {},
   "source": [
    "<hr><div>During knowing <code>data type</code> we will also learn different <code>way of printing</code>\n",
    "<div><hr>"
   ]
  },
  {
   "cell_type": "code",
   "execution_count": 24,
   "id": "6dcdf7fe-ecb7-4aa2-967d-613b42ff9eab",
   "metadata": {},
   "outputs": [],
   "source": [
    "a = 21 # assign int\n",
    "b = 99.9 # assign float\n",
    "c = \"Akshay\" # assign string (\"\" or '' must)\n",
    "d = \"21\"  # assign string\n",
    "e = True # boolean (True | False or O | !)"
   ]
  },
  {
   "cell_type": "code",
   "execution_count": 25,
   "id": "11d5427e-5493-4132-a9d8-946109dcf945",
   "metadata": {},
   "outputs": [
    {
     "data": {
      "text/plain": [
       "int"
      ]
     },
     "execution_count": 25,
     "metadata": {},
     "output_type": "execute_result"
    }
   ],
   "source": [
    "type(a)"
   ]
  },
  {
   "cell_type": "code",
   "execution_count": 26,
   "id": "dd257e10-2599-4ae2-b2db-ddfdc388d0fc",
   "metadata": {},
   "outputs": [
    {
     "name": "stdout",
     "output_type": "stream",
     "text": [
      "<class 'float'>\n"
     ]
    }
   ],
   "source": [
    "ttt = type(b)\n",
    "print(ttt)"
   ]
  },
  {
   "cell_type": "code",
   "execution_count": 27,
   "id": "b1896ec2-40e1-4aeb-89a3-7a5454b13158",
   "metadata": {},
   "outputs": [
    {
     "name": "stdout",
     "output_type": "stream",
     "text": [
      "<class 'str'>\n"
     ]
    }
   ],
   "source": [
    "print(type(c))"
   ]
  },
  {
   "cell_type": "code",
   "execution_count": 28,
   "id": "83ef7bd3-07fa-4a8e-aedf-7717ac2579f2",
   "metadata": {},
   "outputs": [
    {
     "name": "stdout",
     "output_type": "stream",
     "text": [
      "type of d: <class 'str'>\n",
      "type of e: <class 'bool'>\n"
     ]
    }
   ],
   "source": [
    "print(\"type of d:\" ,type(d)) \n",
    "print(\"type of e:\" ,type(e))"
   ]
  },
  {
   "cell_type": "markdown",
   "id": "fd9b6f0d-73cc-4ab3-b0f9-acbfd56a36b9",
   "metadata": {},
   "source": [
    "<div><hr><code>Type casting</code> changing one type to another<hr><div>"
   ]
  },
  {
   "cell_type": "code",
   "execution_count": 29,
   "id": "92bad899-7692-4ae2-a749-d3f89a529e4a",
   "metadata": {},
   "outputs": [
    {
     "data": {
      "text/plain": [
       "int"
      ]
     },
     "execution_count": 29,
     "metadata": {},
     "output_type": "execute_result"
    }
   ],
   "source": [
    "# let's change, a : from int to float\n",
    "float(a)\n",
    "type(a) \n",
    "\n",
    "# notice here its showing int only instead of float\n",
    "# because after changing we didn't assign"
   ]
  },
  {
   "cell_type": "code",
   "execution_count": 30,
   "id": "d17ba6ab-180c-4035-b051-61069689ea3b",
   "metadata": {},
   "outputs": [
    {
     "name": "stdout",
     "output_type": "stream",
     "text": [
      "<class 'float'>\n"
     ]
    }
   ],
   "source": [
    "print(type(float(a))) \n",
    "\n",
    "\n",
    "# huhhhh comlicated ? let me break down for you \n",
    "    # f = float(a)\n",
    "    # t = type(f)\n",
    "    # print(t)"
   ]
  },
  {
   "cell_type": "code",
   "execution_count": 31,
   "id": "823af083-ce71-45e1-a47a-ef4b9fbb3b40",
   "metadata": {},
   "outputs": [
    {
     "name": "stdout",
     "output_type": "stream",
     "text": [
      "_______ original: <class 'int'>\n"
     ]
    }
   ],
   "source": [
    "#Note: again we did't assign after type cast so original 'a' is still int\n",
    "print(\"_______ original:\",type(a))"
   ]
  },
  {
   "cell_type": "markdown",
   "id": "d31595f6-bbd1-482a-b5e0-1221e45a377c",
   "metadata": {},
   "source": [
    "<hr>float to int ,  we get only interger part, not decimal <hr>"
   ]
  },
  {
   "cell_type": "code",
   "execution_count": 32,
   "id": "af9b6261-ad32-44c0-abaf-5fbab5297097",
   "metadata": {},
   "outputs": [
    {
     "data": {
      "text/plain": [
       "99"
      ]
     },
     "execution_count": 32,
     "metadata": {},
     "output_type": "execute_result"
    }
   ],
   "source": [
    "int(b) # float to int , b=99.9 , but here it trimmed decimal part"
   ]
  },
  {
   "cell_type": "code",
   "execution_count": 33,
   "id": "7d53c800-0cd4-4a3b-8db0-a6d4a543ee58",
   "metadata": {},
   "outputs": [
    {
     "data": {
      "text/plain": [
       "'99.9'"
      ]
     },
     "execution_count": 33,
     "metadata": {},
     "output_type": "execute_result"
    }
   ],
   "source": [
    "str(b)"
   ]
  },
  {
   "cell_type": "code",
   "execution_count": 34,
   "id": "db6c385e-381f-400d-b11d-16d3fd1435b1",
   "metadata": {},
   "outputs": [
    {
     "data": {
      "text/plain": [
       "21"
      ]
     },
     "execution_count": 34,
     "metadata": {},
     "output_type": "execute_result"
    }
   ],
   "source": [
    "int(d) # string to decimal only numer will be converted, not alphabet"
   ]
  },
  {
   "cell_type": "code",
   "execution_count": null,
   "id": "b1ddd3c7-a565-411d-8a9f-72c412bf9e69",
   "metadata": {},
   "outputs": [],
   "source": []
  }
 ],
 "metadata": {
  "kernelspec": {
   "display_name": "Python 3 (ipykernel)",
   "language": "python",
   "name": "python3"
  },
  "language_info": {
   "codemirror_mode": {
    "name": "ipython",
    "version": 3
   },
   "file_extension": ".py",
   "mimetype": "text/x-python",
   "name": "python",
   "nbconvert_exporter": "python",
   "pygments_lexer": "ipython3",
   "version": "3.12.1"
  }
 },
 "nbformat": 4,
 "nbformat_minor": 5
}
